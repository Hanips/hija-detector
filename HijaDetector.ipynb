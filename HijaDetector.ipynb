{
  "nbformat": 4,
  "nbformat_minor": 0,
  "metadata": {
    "colab": {
      "provenance": [],
      "include_colab_link": true
    },
    "kernelspec": {
      "name": "python3",
      "display_name": "Python 3"
    },
    "language_info": {
      "name": "python"
    }
  },
  "cells": [
    {
      "cell_type": "markdown",
      "metadata": {
        "id": "view-in-github",
        "colab_type": "text"
      },
      "source": [
        "<a href=\"https://colab.research.google.com/github/Hanips/hija-detector/blob/master/HijaDetector.ipynb\" target=\"_parent\"><img src=\"https://colab.research.google.com/assets/colab-badge.svg\" alt=\"Open In Colab\"/></a>"
      ]
    },
    {
      "cell_type": "markdown",
      "source": [
        "**DIMAS-TI AMLI Scientific Paper**\n",
        "\n",
        "Hijaiyah Detector\n",
        "--------------------------------\n",
        "Credits:\n",
        "\n",
        "Ahmad Syafii\n",
        "\n",
        "Hanief Widya Wardhana\n",
        "\n",
        "Muhammad Hafidz Amanullah Abyan"
      ],
      "metadata": {
        "id": "P4kIhqD6GjaS"
      }
    },
    {
      "cell_type": "code",
      "metadata": {
        "colab": {
          "base_uri": "https://localhost:8080/"
        },
        "id": "CvvhKfhnU15S",
        "outputId": "dc72484c-c678-4310-ff61-3491f20cef34"
      },
      "source": [
        "import tensorflow as tf\n",
        "print(tf.__version__)"
      ],
      "execution_count": null,
      "outputs": [
        {
          "output_type": "stream",
          "name": "stdout",
          "text": [
            "2.8.0\n"
          ]
        }
      ]
    },
    {
      "cell_type": "markdown",
      "source": [
        "1. membaca data (lokasi file-mount dari drive)\n",
        "2. struktur filenya (train/class1/8.jpg)\n",
        "3. gambar di proses (sesuaikan pixelnya)\n",
        "4. Struktur model\n",
        "5. ditest berapa akurasinya\n",
        "\n"
      ],
      "metadata": {
        "id": "7cyL9OQMnK2z"
      }
    },
    {
      "cell_type": "code",
      "metadata": {
        "id": "3KIwSzy1V3KQ",
        "colab": {
          "base_uri": "https://localhost:8080/"
        },
        "outputId": "ecaef8b3-02a5-47c3-cee7-a221d8af8c0f"
      },
      "source": [
        "# mount drive dan import file\n",
        "import os\n",
        "\n",
        "from google.colab import drive\n",
        "drive.mount('/content/drive')\n",
        "# melakukan ekstraksi pada file zip\n",
        "# local_zip = '/content/hija.zip'\n",
        "# zip_ref = zipfile.ZipFile(local_zip, 'r')\n",
        "# zip_ref.extractall('/tmp')\n",
        "# zip_ref.close()\n",
        "\n",
        "base_dir = '/content/drive/MyDrive/hija'\n",
        "train_dir = os.path.join(base_dir, 'train')\n",
        "validation_dir = os.path.join(base_dir, 'val')"
      ],
      "execution_count": null,
      "outputs": [
        {
          "output_type": "stream",
          "name": "stdout",
          "text": [
            "Mounted at /content/drive\n"
          ]
        }
      ]
    },
    {
      "cell_type": "code",
      "metadata": {
        "colab": {
          "base_uri": "https://localhost:8080/"
        },
        "id": "bFQqrsgNWao2",
        "outputId": "63a10d42-98f5-4bb7-95d0-85b2b6775b0b"
      },
      "source": [
        "# membaca direktori pada folder train (class train)\n",
        "os.listdir(train_dir)"
      ],
      "execution_count": null,
      "outputs": [
        {
          "output_type": "execute_result",
          "data": {
            "text/plain": [
              "['sya',\n",
              " 'ja',\n",
              " 'syu',\n",
              " 'ji',\n",
              " 'a',\n",
              " 'i',\n",
              " 'aa',\n",
              " 'ju',\n",
              " 'syi',\n",
              " 'ii',\n",
              " 'ti',\n",
              " 'yi',\n",
              " 'tu',\n",
              " 'zho',\n",
              " 'uu',\n",
              " 'ya',\n",
              " 'ta',\n",
              " 'zhi',\n",
              " 'u',\n",
              " 'yu',\n",
              " 'zhu']"
            ]
          },
          "metadata": {},
          "execution_count": 3
        }
      ]
    },
    {
      "cell_type": "code",
      "metadata": {
        "colab": {
          "base_uri": "https://localhost:8080/"
        },
        "id": "qccBJI9dWrEq",
        "outputId": "a8b7050e-3b51-42e0-b691-bfa8ad9a38f6"
      },
      "source": [
        "# membaca direktori pada folder val (class val)\n",
        "os.listdir(validation_dir)"
      ],
      "execution_count": null,
      "outputs": [
        {
          "output_type": "execute_result",
          "data": {
            "text/plain": [
              "['aa',\n",
              " 'ji',\n",
              " 'a',\n",
              " 'syi',\n",
              " 'i',\n",
              " 'ii',\n",
              " 'ju',\n",
              " 'ja',\n",
              " 'sya',\n",
              " 'yi',\n",
              " 'ti',\n",
              " 'ya',\n",
              " 'uu',\n",
              " 'u',\n",
              " 'yu',\n",
              " 'tu',\n",
              " 'ta',\n",
              " 'syu',\n",
              " 'zhi',\n",
              " 'zhu',\n",
              " 'zho']"
            ]
          },
          "metadata": {},
          "execution_count": 4
        }
      ]
    },
    {
      "cell_type": "code",
      "metadata": {
        "id": "PXr2d6ORWynY"
      },
      "source": [
        "# membuat direktori FATHAH pada direktori data TRAINING\n",
        "train_a_dir = os.path.join(train_dir, 'a')\n",
        "train_ta_dir = os.path.join(train_dir, 'ta')\n",
        "train_ja_dir = os.path.join(train_dir, 'ja')\n",
        "train_sya_dir = os.path.join(train_dir, 'sya')\n",
        "train_zho_dir = os.path.join(train_dir, 'zho')\n",
        "train_aa_dir = os.path.join(train_dir, 'aa')\n",
        "train_ya_dir = os.path.join(train_dir, 'ya')\n",
        "\n",
        "# membuat direktori KASRAH pada direktori data TRAINING\n",
        "train_i_dir = os.path.join(train_dir, 'i')\n",
        "train_ti_dir = os.path.join(train_dir, 'ti')\n",
        "train_ji_dir = os.path.join(train_dir, 'ji')\n",
        "train_syi_dir = os.path.join(train_dir, 'syi')\n",
        "train_zhi_dir = os.path.join(train_dir, 'zhi')\n",
        "train_ii_dir = os.path.join(train_dir, 'ii')\n",
        "train_yi_dir = os.path.join(train_dir, 'yi')\n",
        "\n",
        "# membuat direktori DHAMMAH pada direktori data TRAINING\n",
        "train_u_dir = os.path.join(train_dir, 'u')\n",
        "train_tu_dir = os.path.join(train_dir, 'tu')\n",
        "train_ju_dir = os.path.join(train_dir, 'ju')\n",
        "train_syu_dir = os.path.join(train_dir, 'syu')\n",
        "train_zhu_dir = os.path.join(train_dir, 'zhu')\n",
        "train_uu_dir = os.path.join(train_dir, 'uu')\n",
        "train_yu_dir = os.path.join(train_dir, 'yu')\n",
        "\n",
        "# membuat direktori FATHAH pada direktori data VALIDASI\n",
        "validation_a_dir = os.path.join(validation_dir, 'a')\n",
        "validation_ta_dir = os.path.join(validation_dir, 'ta')\n",
        "validation_ja_dir = os.path.join(validation_dir, 'ja')\n",
        "validation_sya_dir = os.path.join(validation_dir, 'sya')\n",
        "validation_zho_dir = os.path.join(validation_dir, 'zho')\n",
        "validation_aa_dir = os.path.join(validation_dir, 'aa')\n",
        "validation_ya_dir = os.path.join(validation_dir, 'ya')\n",
        "\n",
        "# membuat direktori KASRAH pada direktori data VALIDASI\n",
        "validation_i_dir = os.path.join(validation_dir, 'i')\n",
        "validation_ti_dir = os.path.join(validation_dir, 'ti')\n",
        "validation_ji_dir = os.path.join(validation_dir, 'ji')\n",
        "validation_syi_dir = os.path.join(validation_dir, 'syi')\n",
        "validation_zhi_dir = os.path.join(validation_dir, 'zhi')\n",
        "validation_ii_dir = os.path.join(validation_dir, 'ii')\n",
        "validation_yi_dir = os.path.join(validation_dir, 'yi')\n",
        "\n",
        "# membuat direktori DHAMMAH pada direktori data VALIDASI\n",
        "validation_u_dir = os.path.join(validation_dir, 'u')\n",
        "validation_tu_dir = os.path.join(validation_dir, 'tu')\n",
        "validation_ju_dir = os.path.join(validation_dir, 'ju')\n",
        "validation_syu_dir = os.path.join(validation_dir, 'syu')\n",
        "validation_zhu_dir = os.path.join(validation_dir, 'zhu')\n",
        "validation_uu_dir = os.path.join(validation_dir, 'uu')\n",
        "validation_yu_dir = os.path.join(validation_dir, 'yu')"
      ],
      "execution_count": null,
      "outputs": []
    },
    {
      "cell_type": "code",
      "metadata": {
        "id": "mUxqVe-NW_87"
      },
      "source": [
        "from tensorflow.keras.preprocessing.image import ImageDataGenerator"
      ],
      "execution_count": null,
      "outputs": []
    },
    {
      "cell_type": "code",
      "metadata": {
        "id": "edqOELdmXN70"
      },
      "source": [
        "train_datagen = ImageDataGenerator(\n",
        "                    rescale=1./255,\n",
        "                    rotation_range=20,\n",
        "                    shear_range = 0.2,\n",
        "                    fill_mode = 'nearest')\n",
        "\n",
        "test_datagen = ImageDataGenerator(\n",
        "                    rescale=1./255,\n",
        "                    rotation_range=20,\n",
        "                    shear_range = 0.2,\n",
        "                    fill_mode = 'nearest')"
      ],
      "execution_count": null,
      "outputs": []
    },
    {
      "cell_type": "code",
      "metadata": {
        "colab": {
          "base_uri": "https://localhost:8080/"
        },
        "id": "eJ5UP_CvXRk3",
        "outputId": "a554e4ca-e668-471d-ae1a-539ba0e067cd"
      },
      "source": [
        "batch = 16\n",
        "train_generator = train_datagen.flow_from_directory(\n",
        "        train_dir,  # direktori data latih\n",
        "        target_size=(46, 46),  # mengubah resolusi seluruh gambar\n",
        "        batch_size=batch,\n",
        "        color_mode=\"grayscale\",\n",
        "        class_mode='categorical',\n",
        "        shuffle=True)\n",
        "\n",
        "validation_generator = test_datagen.flow_from_directory(\n",
        "        validation_dir, # direktori data validasi\n",
        "        target_size=(46, 46), # mengubah resolusi seluruh gambar\n",
        "        batch_size=batch,\n",
        "        color_mode=\"grayscale\",\n",
        "        class_mode='categorical',\n",
        "        shuffle=True)"
      ],
      "execution_count": null,
      "outputs": [
        {
          "output_type": "stream",
          "name": "stdout",
          "text": [
            "Found 1050 images belonging to 21 classes.\n",
            "Found 210 images belonging to 21 classes.\n"
          ]
        }
      ]
    },
    {
      "cell_type": "code",
      "metadata": {
        "id": "Wi-XoaUOYB0K"
      },
      "source": [
        "model = tf.keras.models.Sequential([\n",
        "    tf.keras.layers.Conv2D(32, (3,3), activation='relu', input_shape=(46, 46, 1)),\n",
        "    tf.keras.layers.MaxPooling2D(2, 2),\n",
        "    tf.keras.layers.Conv2D(64, (3,3), activation='relu'),\n",
        "    tf.keras.layers.MaxPooling2D(2,2),\n",
        "    tf.keras.layers.Conv2D(128, (3,3), activation='relu'),\n",
        "    tf.keras.layers.MaxPooling2D(2,2),\n",
        "    tf.keras.layers.Conv2D(128, (3,3), activation='relu'),\n",
        "    tf.keras.layers.MaxPooling2D(2,2),\n",
        "    tf.keras.layers.Flatten(),\n",
        "    tf.keras.layers.Dense(512, activation='relu'),\n",
        "    tf.keras.layers.Dense(21, activation='softmax')\n",
        "])"
      ],
      "execution_count": null,
      "outputs": []
    },
    {
      "cell_type": "code",
      "metadata": {
        "id": "bE5jW6vSYbHu"
      },
      "source": [
        "# lr = 0.00005\n",
        "# tf.keras.optimizers.Adam(learning_rate=lr)\n",
        "# compile model dengan 'adam' optimizer loss function 'categorical_crossentropy'\n",
        "model.compile(loss='categorical_crossentropy',\n",
        "              optimizer='Adam',\n",
        "              metrics=['accuracy'])"
      ],
      "execution_count": null,
      "outputs": []
    },
    {
      "cell_type": "code",
      "metadata": {
        "colab": {
          "base_uri": "https://localhost:8080/"
        },
        "id": "IQ22zuZJYkqA",
        "outputId": "d2cb78bf-80e8-4f92-bb2f-c99efdc7fd76"
      },
      "source": [
        "epoch = 100\n",
        "# latih model dengan model.fit \n",
        "history = model.fit(\n",
        "      train_generator,\n",
        "      steps_per_epoch=train_generator.samples//train_generator.batch_size,  # berapa batch yang akan dieksekusi pada setiap epoch\n",
        "      epochs=epoch, # tambahkan eposchs jika akurasi model belum optimal\n",
        "      validation_data=validation_generator, # menampilkan akurasi pengujian data validasi\n",
        "      validation_steps=validation_generator.samples//validation_generator.batch_size,  # berapa batch yang akan dieksekusi pada setiap epoch\n",
        "      verbose=1)"
      ],
      "execution_count": null,
      "outputs": [
        {
          "output_type": "stream",
          "name": "stdout",
          "text": [
            "Epoch 1/100\n",
            "65/65 [==============================] - 7s 102ms/step - loss: 2.3357e-07 - accuracy: 1.0000 - val_loss: 0.4240 - val_accuracy: 0.9327\n",
            "Epoch 2/100\n",
            "65/65 [==============================] - 6s 95ms/step - loss: 8.2316e-08 - accuracy: 1.0000 - val_loss: 0.4089 - val_accuracy: 0.9471\n",
            "Epoch 3/100\n",
            "65/65 [==============================] - 6s 96ms/step - loss: 2.8810e-07 - accuracy: 1.0000 - val_loss: 0.3663 - val_accuracy: 0.9471\n",
            "Epoch 4/100\n",
            "65/65 [==============================] - 6s 98ms/step - loss: 8.1625e-08 - accuracy: 1.0000 - val_loss: 0.3545 - val_accuracy: 0.9663\n",
            "Epoch 5/100\n",
            "65/65 [==============================] - 6s 94ms/step - loss: 5.8682e-08 - accuracy: 1.0000 - val_loss: 0.3734 - val_accuracy: 0.9567\n",
            "Epoch 6/100\n",
            "65/65 [==============================] - 6s 96ms/step - loss: 9.2462e-08 - accuracy: 1.0000 - val_loss: 0.3933 - val_accuracy: 0.9327\n",
            "Epoch 7/100\n",
            "65/65 [==============================] - 6s 95ms/step - loss: 9.2693e-08 - accuracy: 1.0000 - val_loss: 0.2827 - val_accuracy: 0.9423\n",
            "Epoch 8/100\n",
            "65/65 [==============================] - 7s 110ms/step - loss: 4.4314e-07 - accuracy: 1.0000 - val_loss: 0.5424 - val_accuracy: 0.9375\n",
            "Epoch 9/100\n",
            "65/65 [==============================] - 7s 104ms/step - loss: 1.2025e-07 - accuracy: 1.0000 - val_loss: 0.3767 - val_accuracy: 0.9423\n",
            "Epoch 10/100\n",
            "65/65 [==============================] - 6s 98ms/step - loss: 4.7368e-07 - accuracy: 1.0000 - val_loss: 0.4669 - val_accuracy: 0.9327\n",
            "Epoch 11/100\n",
            "65/65 [==============================] - 8s 119ms/step - loss: 1.2267e-07 - accuracy: 1.0000 - val_loss: 0.3369 - val_accuracy: 0.9519\n",
            "Epoch 12/100\n",
            "65/65 [==============================] - 9s 139ms/step - loss: 3.2392e-07 - accuracy: 1.0000 - val_loss: 0.3185 - val_accuracy: 0.9712\n",
            "Epoch 13/100\n",
            "65/65 [==============================] - 8s 128ms/step - loss: 9.4422e-08 - accuracy: 1.0000 - val_loss: 0.4134 - val_accuracy: 0.9471\n",
            "Epoch 14/100\n",
            "65/65 [==============================] - 8s 117ms/step - loss: 7.0442e-08 - accuracy: 1.0000 - val_loss: 0.5410 - val_accuracy: 0.9375\n",
            "Epoch 15/100\n",
            "65/65 [==============================] - 6s 97ms/step - loss: 0.1772 - accuracy: 0.9855 - val_loss: 1.7323 - val_accuracy: 0.6010\n",
            "Epoch 16/100\n",
            "65/65 [==============================] - 6s 96ms/step - loss: 0.3375 - accuracy: 0.8965 - val_loss: 0.6043 - val_accuracy: 0.8558\n",
            "Epoch 17/100\n",
            "65/65 [==============================] - 6s 95ms/step - loss: 0.1120 - accuracy: 0.9642 - val_loss: 0.4297 - val_accuracy: 0.8942\n",
            "Epoch 18/100\n",
            "65/65 [==============================] - 6s 95ms/step - loss: 0.0343 - accuracy: 0.9894 - val_loss: 0.4980 - val_accuracy: 0.8750\n",
            "Epoch 19/100\n",
            "65/65 [==============================] - 6s 96ms/step - loss: 0.0347 - accuracy: 0.9894 - val_loss: 0.5350 - val_accuracy: 0.9087\n",
            "Epoch 20/100\n",
            "65/65 [==============================] - 6s 95ms/step - loss: 0.0191 - accuracy: 0.9923 - val_loss: 0.4195 - val_accuracy: 0.9087\n",
            "Epoch 21/100\n",
            "65/65 [==============================] - 6s 96ms/step - loss: 0.0039 - accuracy: 0.9981 - val_loss: 0.5031 - val_accuracy: 0.9279\n",
            "Epoch 22/100\n",
            "65/65 [==============================] - 6s 97ms/step - loss: 0.0020 - accuracy: 1.0000 - val_loss: 0.5172 - val_accuracy: 0.9231\n",
            "Epoch 23/100\n",
            "65/65 [==============================] - 6s 95ms/step - loss: 0.0031 - accuracy: 0.9990 - val_loss: 0.4903 - val_accuracy: 0.9279\n",
            "Epoch 24/100\n",
            "65/65 [==============================] - 6s 96ms/step - loss: 0.0475 - accuracy: 0.9855 - val_loss: 0.3043 - val_accuracy: 0.9038\n",
            "Epoch 25/100\n",
            "65/65 [==============================] - 6s 96ms/step - loss: 0.0295 - accuracy: 0.9923 - val_loss: 0.3444 - val_accuracy: 0.9087\n",
            "Epoch 26/100\n",
            "65/65 [==============================] - 6s 95ms/step - loss: 0.0263 - accuracy: 0.9932 - val_loss: 0.3689 - val_accuracy: 0.9183\n",
            "Epoch 27/100\n",
            "65/65 [==============================] - 6s 96ms/step - loss: 0.0199 - accuracy: 0.9942 - val_loss: 0.3493 - val_accuracy: 0.9279\n",
            "Epoch 28/100\n",
            "65/65 [==============================] - 6s 97ms/step - loss: 0.0060 - accuracy: 0.9971 - val_loss: 0.5569 - val_accuracy: 0.9038\n",
            "Epoch 29/100\n",
            "65/65 [==============================] - 6s 96ms/step - loss: 0.0800 - accuracy: 0.9865 - val_loss: 0.2834 - val_accuracy: 0.9519\n",
            "Epoch 30/100\n",
            "65/65 [==============================] - 6s 96ms/step - loss: 0.0106 - accuracy: 0.9981 - val_loss: 0.3170 - val_accuracy: 0.9471\n",
            "Epoch 31/100\n",
            "65/65 [==============================] - 6s 98ms/step - loss: 0.0072 - accuracy: 0.9971 - val_loss: 0.4116 - val_accuracy: 0.9135\n",
            "Epoch 32/100\n",
            "65/65 [==============================] - 6s 94ms/step - loss: 0.0054 - accuracy: 0.9990 - val_loss: 0.2838 - val_accuracy: 0.9279\n",
            "Epoch 33/100\n",
            "65/65 [==============================] - 6s 99ms/step - loss: 0.0010 - accuracy: 1.0000 - val_loss: 0.3647 - val_accuracy: 0.9279\n",
            "Epoch 34/100\n",
            "65/65 [==============================] - 7s 102ms/step - loss: 2.8227e-04 - accuracy: 1.0000 - val_loss: 0.4038 - val_accuracy: 0.9567\n",
            "Epoch 35/100\n",
            "65/65 [==============================] - 7s 106ms/step - loss: 3.5604e-04 - accuracy: 1.0000 - val_loss: 0.5162 - val_accuracy: 0.9087\n",
            "Epoch 36/100\n",
            "65/65 [==============================] - 7s 114ms/step - loss: 0.0011 - accuracy: 1.0000 - val_loss: 0.2518 - val_accuracy: 0.9327\n",
            "Epoch 37/100\n",
            "65/65 [==============================] - 7s 104ms/step - loss: 0.0024 - accuracy: 0.9990 - val_loss: 0.3219 - val_accuracy: 0.9375\n",
            "Epoch 38/100\n",
            "65/65 [==============================] - 7s 111ms/step - loss: 6.9837e-04 - accuracy: 1.0000 - val_loss: 0.3316 - val_accuracy: 0.9375\n",
            "Epoch 39/100\n",
            "65/65 [==============================] - 7s 104ms/step - loss: 1.9926e-04 - accuracy: 1.0000 - val_loss: 0.2804 - val_accuracy: 0.9519\n",
            "Epoch 40/100\n",
            "65/65 [==============================] - 6s 95ms/step - loss: 7.9768e-05 - accuracy: 1.0000 - val_loss: 0.3032 - val_accuracy: 0.9471\n",
            "Epoch 41/100\n",
            "65/65 [==============================] - 6s 95ms/step - loss: 9.9447e-04 - accuracy: 1.0000 - val_loss: 0.2852 - val_accuracy: 0.9471\n",
            "Epoch 42/100\n",
            "65/65 [==============================] - 7s 100ms/step - loss: 1.2676e-04 - accuracy: 1.0000 - val_loss: 0.3069 - val_accuracy: 0.9567\n",
            "Epoch 43/100\n",
            "65/65 [==============================] - 6s 98ms/step - loss: 1.0022e-04 - accuracy: 1.0000 - val_loss: 0.2187 - val_accuracy: 0.9615\n",
            "Epoch 44/100\n",
            "65/65 [==============================] - 7s 101ms/step - loss: 9.1017e-05 - accuracy: 1.0000 - val_loss: 0.3110 - val_accuracy: 0.9375\n",
            "Epoch 45/100\n",
            "65/65 [==============================] - 7s 104ms/step - loss: 0.0203 - accuracy: 0.9952 - val_loss: 0.4609 - val_accuracy: 0.9135\n",
            "Epoch 46/100\n",
            "65/65 [==============================] - 7s 110ms/step - loss: 0.0852 - accuracy: 0.9700 - val_loss: 0.4508 - val_accuracy: 0.9087\n",
            "Epoch 47/100\n",
            "65/65 [==============================] - 7s 103ms/step - loss: 0.0304 - accuracy: 0.9923 - val_loss: 0.3995 - val_accuracy: 0.9183\n",
            "Epoch 48/100\n",
            "65/65 [==============================] - 7s 105ms/step - loss: 0.0136 - accuracy: 0.9961 - val_loss: 0.4240 - val_accuracy: 0.9375\n",
            "Epoch 49/100\n",
            "65/65 [==============================] - 7s 100ms/step - loss: 0.0126 - accuracy: 0.9961 - val_loss: 0.4570 - val_accuracy: 0.9279\n",
            "Epoch 50/100\n",
            "65/65 [==============================] - 7s 102ms/step - loss: 0.0187 - accuracy: 0.9932 - val_loss: 0.2058 - val_accuracy: 0.9519\n",
            "Epoch 51/100\n",
            "65/65 [==============================] - 6s 98ms/step - loss: 0.0051 - accuracy: 0.9971 - val_loss: 0.2578 - val_accuracy: 0.9471\n",
            "Epoch 52/100\n",
            "65/65 [==============================] - 6s 96ms/step - loss: 0.0026 - accuracy: 0.9981 - val_loss: 0.4553 - val_accuracy: 0.9279\n",
            "Epoch 53/100\n",
            "65/65 [==============================] - 6s 96ms/step - loss: 5.7979e-04 - accuracy: 1.0000 - val_loss: 0.2883 - val_accuracy: 0.9375\n",
            "Epoch 54/100\n",
            "65/65 [==============================] - 6s 96ms/step - loss: 1.7994e-04 - accuracy: 1.0000 - val_loss: 0.3355 - val_accuracy: 0.9471\n",
            "Epoch 55/100\n",
            "65/65 [==============================] - 6s 95ms/step - loss: 0.0014 - accuracy: 0.9990 - val_loss: 0.3628 - val_accuracy: 0.9375\n",
            "Epoch 56/100\n",
            "65/65 [==============================] - 6s 94ms/step - loss: 0.0010 - accuracy: 0.9990 - val_loss: 0.2958 - val_accuracy: 0.9327\n",
            "Epoch 57/100\n",
            "65/65 [==============================] - 6s 95ms/step - loss: 2.0820e-04 - accuracy: 1.0000 - val_loss: 0.2642 - val_accuracy: 0.9471\n",
            "Epoch 58/100\n",
            "65/65 [==============================] - 7s 99ms/step - loss: 4.0506e-04 - accuracy: 1.0000 - val_loss: 0.4702 - val_accuracy: 0.9375\n",
            "Epoch 59/100\n",
            "65/65 [==============================] - 6s 96ms/step - loss: 2.6809e-04 - accuracy: 1.0000 - val_loss: 0.3412 - val_accuracy: 0.9375\n",
            "Epoch 60/100\n",
            "65/65 [==============================] - 6s 99ms/step - loss: 4.3484e-05 - accuracy: 1.0000 - val_loss: 0.3655 - val_accuracy: 0.9375\n",
            "Epoch 61/100\n",
            "65/65 [==============================] - 6s 96ms/step - loss: 5.7179e-04 - accuracy: 1.0000 - val_loss: 0.3737 - val_accuracy: 0.9423\n",
            "Epoch 62/100\n",
            "65/65 [==============================] - 6s 95ms/step - loss: 4.4305e-05 - accuracy: 1.0000 - val_loss: 0.2365 - val_accuracy: 0.9519\n",
            "Epoch 63/100\n",
            "65/65 [==============================] - 6s 97ms/step - loss: 3.0227e-05 - accuracy: 1.0000 - val_loss: 0.3108 - val_accuracy: 0.9375\n",
            "Epoch 64/100\n",
            "65/65 [==============================] - 6s 95ms/step - loss: 2.3214e-05 - accuracy: 1.0000 - val_loss: 0.3384 - val_accuracy: 0.9423\n",
            "Epoch 65/100\n",
            "65/65 [==============================] - 6s 95ms/step - loss: 2.0275e-04 - accuracy: 1.0000 - val_loss: 0.3908 - val_accuracy: 0.9231\n",
            "Epoch 66/100\n",
            "65/65 [==============================] - 6s 100ms/step - loss: 6.0770e-05 - accuracy: 1.0000 - val_loss: 0.3962 - val_accuracy: 0.9279\n",
            "Epoch 67/100\n",
            "65/65 [==============================] - 6s 98ms/step - loss: 1.9614e-04 - accuracy: 1.0000 - val_loss: 0.5258 - val_accuracy: 0.9279\n",
            "Epoch 68/100\n",
            "65/65 [==============================] - 6s 98ms/step - loss: 2.5464e-05 - accuracy: 1.0000 - val_loss: 0.4514 - val_accuracy: 0.9375\n",
            "Epoch 69/100\n",
            "65/65 [==============================] - 6s 96ms/step - loss: 2.1863e-05 - accuracy: 1.0000 - val_loss: 0.4506 - val_accuracy: 0.9375\n",
            "Epoch 70/100\n",
            "65/65 [==============================] - 6s 98ms/step - loss: 1.9043e-05 - accuracy: 1.0000 - val_loss: 0.3219 - val_accuracy: 0.9375\n",
            "Epoch 71/100\n",
            "65/65 [==============================] - 7s 104ms/step - loss: 1.4301e-05 - accuracy: 1.0000 - val_loss: 0.3913 - val_accuracy: 0.9423\n",
            "Epoch 72/100\n",
            "65/65 [==============================] - 7s 103ms/step - loss: 4.4367e-05 - accuracy: 1.0000 - val_loss: 0.5502 - val_accuracy: 0.9231\n",
            "Epoch 73/100\n",
            "65/65 [==============================] - 7s 100ms/step - loss: 7.2683e-06 - accuracy: 1.0000 - val_loss: 0.4548 - val_accuracy: 0.9183\n",
            "Epoch 74/100\n",
            "65/65 [==============================] - 6s 96ms/step - loss: 6.6404e-06 - accuracy: 1.0000 - val_loss: 0.4826 - val_accuracy: 0.9183\n",
            "Epoch 75/100\n",
            "65/65 [==============================] - 6s 94ms/step - loss: 6.5690e-06 - accuracy: 1.0000 - val_loss: 0.4493 - val_accuracy: 0.9471\n",
            "Epoch 76/100\n",
            "65/65 [==============================] - 6s 95ms/step - loss: 4.8168e-06 - accuracy: 1.0000 - val_loss: 0.4053 - val_accuracy: 0.9279\n",
            "Epoch 77/100\n",
            "65/65 [==============================] - 6s 98ms/step - loss: 6.9742e-06 - accuracy: 1.0000 - val_loss: 0.6318 - val_accuracy: 0.9279\n",
            "Epoch 78/100\n",
            "65/65 [==============================] - 6s 95ms/step - loss: 7.3066e-05 - accuracy: 1.0000 - val_loss: 0.4200 - val_accuracy: 0.9375\n",
            "Epoch 79/100\n",
            "65/65 [==============================] - 6s 94ms/step - loss: 2.4171e-05 - accuracy: 1.0000 - val_loss: 0.3948 - val_accuracy: 0.9423\n",
            "Epoch 80/100\n",
            "65/65 [==============================] - 6s 97ms/step - loss: 8.5175e-06 - accuracy: 1.0000 - val_loss: 0.4014 - val_accuracy: 0.9423\n",
            "Epoch 81/100\n",
            "65/65 [==============================] - 6s 98ms/step - loss: 6.5349e-06 - accuracy: 1.0000 - val_loss: 0.5168 - val_accuracy: 0.9183\n",
            "Epoch 82/100\n",
            "65/65 [==============================] - 6s 97ms/step - loss: 1.7265e-05 - accuracy: 1.0000 - val_loss: 0.4497 - val_accuracy: 0.9423\n",
            "Epoch 83/100\n",
            "65/65 [==============================] - 6s 96ms/step - loss: 7.0290e-06 - accuracy: 1.0000 - val_loss: 0.3449 - val_accuracy: 0.9375\n",
            "Epoch 84/100\n",
            "65/65 [==============================] - 7s 100ms/step - loss: 4.8952e-06 - accuracy: 1.0000 - val_loss: 0.2288 - val_accuracy: 0.9471\n",
            "Epoch 85/100\n",
            "65/65 [==============================] - 7s 101ms/step - loss: 1.0207e-05 - accuracy: 1.0000 - val_loss: 0.3563 - val_accuracy: 0.9327\n",
            "Epoch 86/100\n",
            "65/65 [==============================] - 6s 98ms/step - loss: 4.0773e-06 - accuracy: 1.0000 - val_loss: 0.4410 - val_accuracy: 0.9471\n",
            "Epoch 87/100\n",
            "65/65 [==============================] - 7s 107ms/step - loss: 5.7590e-06 - accuracy: 1.0000 - val_loss: 0.4451 - val_accuracy: 0.9279\n",
            "Epoch 88/100\n",
            "65/65 [==============================] - 7s 104ms/step - loss: 8.4683e-06 - accuracy: 1.0000 - val_loss: 0.4230 - val_accuracy: 0.9423\n",
            "Epoch 89/100\n",
            "65/65 [==============================] - 7s 101ms/step - loss: 4.6240e-06 - accuracy: 1.0000 - val_loss: 0.3718 - val_accuracy: 0.9327\n",
            "Epoch 90/100\n",
            "65/65 [==============================] - 6s 96ms/step - loss: 4.7824e-06 - accuracy: 1.0000 - val_loss: 0.3129 - val_accuracy: 0.9231\n",
            "Epoch 91/100\n",
            "65/65 [==============================] - 6s 96ms/step - loss: 4.8586e-06 - accuracy: 1.0000 - val_loss: 0.4761 - val_accuracy: 0.9327\n",
            "Epoch 92/100\n",
            "65/65 [==============================] - 6s 97ms/step - loss: 3.8998e-06 - accuracy: 1.0000 - val_loss: 0.5028 - val_accuracy: 0.9327\n",
            "Epoch 93/100\n",
            "65/65 [==============================] - 6s 97ms/step - loss: 4.0370e-06 - accuracy: 1.0000 - val_loss: 0.2266 - val_accuracy: 0.9471\n",
            "Epoch 94/100\n",
            "65/65 [==============================] - 6s 98ms/step - loss: 2.7728e-06 - accuracy: 1.0000 - val_loss: 0.5972 - val_accuracy: 0.9327\n",
            "Epoch 95/100\n",
            "65/65 [==============================] - 6s 97ms/step - loss: 1.8682e-06 - accuracy: 1.0000 - val_loss: 0.3783 - val_accuracy: 0.9423\n",
            "Epoch 96/100\n",
            "65/65 [==============================] - 6s 98ms/step - loss: 5.8860e-06 - accuracy: 1.0000 - val_loss: 0.4742 - val_accuracy: 0.9423\n",
            "Epoch 97/100\n",
            "65/65 [==============================] - 6s 98ms/step - loss: 2.8287e-06 - accuracy: 1.0000 - val_loss: 0.2461 - val_accuracy: 0.9327\n",
            "Epoch 98/100\n",
            "65/65 [==============================] - 6s 97ms/step - loss: 6.9178e-06 - accuracy: 1.0000 - val_loss: 0.3347 - val_accuracy: 0.9471\n",
            "Epoch 99/100\n",
            "65/65 [==============================] - 6s 98ms/step - loss: 2.4279e-06 - accuracy: 1.0000 - val_loss: 0.3252 - val_accuracy: 0.9423\n",
            "Epoch 100/100\n",
            "65/65 [==============================] - 7s 102ms/step - loss: 2.8223e-06 - accuracy: 1.0000 - val_loss: 0.4953 - val_accuracy: 0.9567\n"
          ]
        }
      ]
    },
    {
      "cell_type": "code",
      "metadata": {
        "id": "HxGgzmehZpt1"
      },
      "source": [
        "import numpy as np\n",
        "from google.colab import files\n",
        "from keras.preprocessing import image\n",
        "import matplotlib.pyplot as plt\n",
        "import matplotlib.image as mpimg\n",
        "%matplotlib inline"
      ],
      "execution_count": null,
      "outputs": []
    },
    {
      "cell_type": "code",
      "source": [
        "acc = history.history['accuracy']\n",
        "val_acc = history.history['val_accuracy']\n",
        "\n",
        "loss = history.history['loss']\n",
        "val_loss = history.history['val_loss']\n",
        "\n",
        "plt.figure(figsize=(8, 8))\n",
        "plt.subplot(2, 1, 1)\n",
        "plt.plot(acc, label='Training Accuracy')\n",
        "plt.plot(val_acc, label='Validation Accuracy')\n",
        "plt.legend(loc='best')\n",
        "plt.ylabel('Accuracy')\n",
        "plt.ylim([min(plt.ylim()),max(plt.ylim())])\n",
        "plt.title('Training and Validation Accuracy')\n",
        "\n",
        "\n",
        "plt.subplot(2, 1, 2)\n",
        "plt.plot(loss, label='Training Loss')\n",
        "plt.plot(val_loss, label='Validation Loss')\n",
        "plt.legend(loc='best')\n",
        "plt.ylabel('Loss')\n",
        "plt.ylim([min(plt.ylim()),max(plt.ylim())])\n",
        "plt.title('Training and Validation Loss')\n",
        "plt.xlabel('epoch')\n",
        "plt.show()"
      ],
      "metadata": {
        "id": "tkzqIj0vumkN",
        "colab": {
          "base_uri": "https://localhost:8080/",
          "height": 513
        },
        "outputId": "4fcf7358-a51b-4ee3-8c51-4ad185933bf8"
      },
      "execution_count": null,
      "outputs": [
        {
          "output_type": "display_data",
          "data": {
            "text/plain": [
              "<Figure size 576x576 with 2 Axes>"
            ],
            "image/png": "[encoded data removed]"
          },
          "metadata": {
            "needs_background": "light"
          }
        }
      ]
    }
  ]
}